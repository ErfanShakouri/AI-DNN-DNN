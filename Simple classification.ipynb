{
 "cells": [
  {
   "cell_type": "code",
   "execution_count": 3,
   "id": "c2bb8f82",
   "metadata": {},
   "outputs": [],
   "source": [
    "import matplotlib.pyplot as plt\n",
    "import numpy as np\n",
    "import tensorflow as tf\n",
    "from tensorflow import keras\n",
    "from sklearn.preprocessing import StandardScaler\n",
    "from sklearn.model_selection import GridSearchCV\n",
    "from sklearn.model_selection import train_test_split\n",
    "from sklearn.datasets import fetch_california_housing\n"
   ]
  },
  {
   "cell_type": "code",
   "execution_count": 4,
   "id": "fd9a1bd1-c65b-4c81-9a17-75b2cc4bc1b9",
   "metadata": {},
   "outputs": [
    {
     "data": {
      "text/plain": [
       "'2.11.0'"
      ]
     },
     "execution_count": 4,
     "metadata": {},
     "output_type": "execute_result"
    }
   ],
   "source": [
    "tf.__version__"
   ]
  },
  {
   "cell_type": "markdown",
   "id": "6c987b3a-61a0-4639-9cf7-2c14b7b39649",
   "metadata": {},
   "source": [
    "# Classification Part"
   ]
  },
  {
   "cell_type": "code",
   "execution_count": 5,
   "id": "1e00734a",
   "metadata": {},
   "outputs": [],
   "source": [
    "fmnist_data = keras.datasets.fashion_mnist"
   ]
  },
  {
   "cell_type": "code",
   "execution_count": 7,
   "id": "270f45bb",
   "metadata": {},
   "outputs": [
    {
     "name": "stdout",
     "output_type": "stream",
     "text": [
      "Downloading data from https://storage.googleapis.com/tensorflow/tf-keras-datasets/train-labels-idx1-ubyte.gz\n",
      "29515/29515 [==============================] - 0s 13us/step\n",
      "Downloading data from https://storage.googleapis.com/tensorflow/tf-keras-datasets/train-images-idx3-ubyte.gz\n",
      "26421880/26421880 [==============================] - 2978s 113us/step\n",
      "Downloading data from https://storage.googleapis.com/tensorflow/tf-keras-datasets/t10k-labels-idx1-ubyte.gz\n",
      "5148/5148 [==============================] - 0s 0s/step\n",
      "Downloading data from https://storage.googleapis.com/tensorflow/tf-keras-datasets/t10k-images-idx3-ubyte.gz\n",
      "4422102/4422102 [==============================] - 265s 60us/step\n"
     ]
    },
    {
     "data": {
      "text/plain": [
       "((array([[[0, 0, 0, ..., 0, 0, 0],\n",
       "          [0, 0, 0, ..., 0, 0, 0],\n",
       "          [0, 0, 0, ..., 0, 0, 0],\n",
       "          ...,\n",
       "          [0, 0, 0, ..., 0, 0, 0],\n",
       "          [0, 0, 0, ..., 0, 0, 0],\n",
       "          [0, 0, 0, ..., 0, 0, 0]],\n",
       "  \n",
       "         [[0, 0, 0, ..., 0, 0, 0],\n",
       "          [0, 0, 0, ..., 0, 0, 0],\n",
       "          [0, 0, 0, ..., 0, 0, 0],\n",
       "          ...,\n",
       "          [0, 0, 0, ..., 0, 0, 0],\n",
       "          [0, 0, 0, ..., 0, 0, 0],\n",
       "          [0, 0, 0, ..., 0, 0, 0]],\n",
       "  \n",
       "         [[0, 0, 0, ..., 0, 0, 0],\n",
       "          [0, 0, 0, ..., 0, 0, 0],\n",
       "          [0, 0, 0, ..., 0, 0, 0],\n",
       "          ...,\n",
       "          [0, 0, 0, ..., 0, 0, 0],\n",
       "          [0, 0, 0, ..., 0, 0, 0],\n",
       "          [0, 0, 0, ..., 0, 0, 0]],\n",
       "  \n",
       "         ...,\n",
       "  \n",
       "         [[0, 0, 0, ..., 0, 0, 0],\n",
       "          [0, 0, 0, ..., 0, 0, 0],\n",
       "          [0, 0, 0, ..., 0, 0, 0],\n",
       "          ...,\n",
       "          [0, 0, 0, ..., 0, 0, 0],\n",
       "          [0, 0, 0, ..., 0, 0, 0],\n",
       "          [0, 0, 0, ..., 0, 0, 0]],\n",
       "  \n",
       "         [[0, 0, 0, ..., 0, 0, 0],\n",
       "          [0, 0, 0, ..., 0, 0, 0],\n",
       "          [0, 0, 0, ..., 0, 0, 0],\n",
       "          ...,\n",
       "          [0, 0, 0, ..., 0, 0, 0],\n",
       "          [0, 0, 0, ..., 0, 0, 0],\n",
       "          [0, 0, 0, ..., 0, 0, 0]],\n",
       "  \n",
       "         [[0, 0, 0, ..., 0, 0, 0],\n",
       "          [0, 0, 0, ..., 0, 0, 0],\n",
       "          [0, 0, 0, ..., 0, 0, 0],\n",
       "          ...,\n",
       "          [0, 0, 0, ..., 0, 0, 0],\n",
       "          [0, 0, 0, ..., 0, 0, 0],\n",
       "          [0, 0, 0, ..., 0, 0, 0]]], dtype=uint8),\n",
       "  array([9, 0, 0, ..., 3, 0, 5], dtype=uint8)),\n",
       " (array([[[0, 0, 0, ..., 0, 0, 0],\n",
       "          [0, 0, 0, ..., 0, 0, 0],\n",
       "          [0, 0, 0, ..., 0, 0, 0],\n",
       "          ...,\n",
       "          [0, 0, 0, ..., 0, 0, 0],\n",
       "          [0, 0, 0, ..., 0, 0, 0],\n",
       "          [0, 0, 0, ..., 0, 0, 0]],\n",
       "  \n",
       "         [[0, 0, 0, ..., 0, 0, 0],\n",
       "          [0, 0, 0, ..., 0, 0, 0],\n",
       "          [0, 0, 0, ..., 0, 0, 0],\n",
       "          ...,\n",
       "          [0, 0, 0, ..., 0, 0, 0],\n",
       "          [0, 0, 0, ..., 0, 0, 0],\n",
       "          [0, 0, 0, ..., 0, 0, 0]],\n",
       "  \n",
       "         [[0, 0, 0, ..., 0, 0, 0],\n",
       "          [0, 0, 0, ..., 0, 0, 0],\n",
       "          [0, 0, 0, ..., 0, 0, 0],\n",
       "          ...,\n",
       "          [0, 0, 0, ..., 0, 0, 0],\n",
       "          [0, 0, 0, ..., 0, 0, 0],\n",
       "          [0, 0, 0, ..., 0, 0, 0]],\n",
       "  \n",
       "         ...,\n",
       "  \n",
       "         [[0, 0, 0, ..., 0, 0, 0],\n",
       "          [0, 0, 0, ..., 0, 0, 0],\n",
       "          [0, 0, 0, ..., 0, 0, 0],\n",
       "          ...,\n",
       "          [0, 0, 0, ..., 0, 0, 0],\n",
       "          [0, 0, 0, ..., 0, 0, 0],\n",
       "          [0, 0, 0, ..., 0, 0, 0]],\n",
       "  \n",
       "         [[0, 0, 0, ..., 0, 0, 0],\n",
       "          [0, 0, 0, ..., 0, 0, 0],\n",
       "          [0, 0, 0, ..., 0, 0, 0],\n",
       "          ...,\n",
       "          [0, 0, 0, ..., 0, 0, 0],\n",
       "          [0, 0, 0, ..., 0, 0, 0],\n",
       "          [0, 0, 0, ..., 0, 0, 0]],\n",
       "  \n",
       "         [[0, 0, 0, ..., 0, 0, 0],\n",
       "          [0, 0, 0, ..., 0, 0, 0],\n",
       "          [0, 0, 0, ..., 0, 0, 0],\n",
       "          ...,\n",
       "          [0, 0, 0, ..., 0, 0, 0],\n",
       "          [0, 0, 0, ..., 0, 0, 0],\n",
       "          [0, 0, 0, ..., 0, 0, 0]]], dtype=uint8),\n",
       "  array([9, 2, 1, ..., 8, 1, 5], dtype=uint8)))"
      ]
     },
     "execution_count": 7,
     "metadata": {},
     "output_type": "execute_result"
    }
   ],
   "source": [
    "fmnist_data.load_data()"
   ]
  },
  {
   "cell_type": "code",
   "execution_count": 46,
   "id": "08a7ee25",
   "metadata": {},
   "outputs": [],
   "source": [
    "(x_train, y_train),  (x_test, y_test) = fmnist_data.load_data()"
   ]
  },
  {
   "cell_type": "code",
   "execution_count": 9,
   "id": "d7c180bd",
   "metadata": {},
   "outputs": [
    {
     "data": {
      "text/plain": [
       "(60000, 28, 28)"
      ]
     },
     "execution_count": 9,
     "metadata": {},
     "output_type": "execute_result"
    }
   ],
   "source": [
    ".shape"
   ]
  },
  {
   "cell_type": "code",
   "execution_count": 10,
   "id": "ff821769-4bea-4c01-b876-61f75a939922",
   "metadata": {},
   "outputs": [
    {
     "data": {
      "text/plain": [
       "(10000, 28, 28)"
      ]
     },
     "execution_count": 10,
     "metadata": {},
     "output_type": "execute_result"
    }
   ],
   "source": [
    "x_test.shape"
   ]
  },
  {
   "cell_type": "code",
   "execution_count": 11,
   "id": "fe57a9c6-d427-4b10-b5e3-cf56d9d683c0",
   "metadata": {},
   "outputs": [
    {
     "data": {
      "text/plain": [
       "(60000,)"
      ]
     },
     "execution_count": 11,
     "metadata": {},
     "output_type": "execute_result"
    }
   ],
   "source": [
    "y_train.shape"
   ]
  },
  {
   "cell_type": "code",
   "execution_count": 12,
   "id": "db835ff6-472f-40e2-a279-0aa53c385c10",
   "metadata": {},
   "outputs": [
    {
     "data": {
      "text/plain": [
       "array([9, 0, 0, 3, 0, 2, 7, 2, 5, 5], dtype=uint8)"
      ]
     },
     "execution_count": 12,
     "metadata": {},
     "output_type": "execute_result"
    }
   ],
   "source": [
    "y_train[:10]"
   ]
  },
  {
   "cell_type": "code",
   "execution_count": 16,
   "id": "2069122e",
   "metadata": {},
   "outputs": [
    {
     "data": {
      "text/plain": [
       "array([  0,   0,   0,   0,   0,   0,   0,   0, 139, 229, 212, 226, 255,\n",
       "         0, 162, 255, 213, 226, 200,   0,   0,   0,   0,   0,   0,   0,\n",
       "         0,   0], dtype=uint8)"
      ]
     },
     "execution_count": 16,
     "metadata": {},
     "output_type": "execute_result"
    }
   ],
   "source": [
    "x_train[4,4,:]"
   ]
  },
  {
   "cell_type": "code",
   "execution_count": 47,
   "id": "ff603ac2",
   "metadata": {},
   "outputs": [
    {
     "data": {
      "text/plain": [
       "<matplotlib.image.AxesImage at 0x1dec952cc70>"
      ]
     },
     "execution_count": 47,
     "metadata": {},
     "output_type": "execute_result"
    },
    {
     "data": {
      "image/png": "[encoded data removed]",
      "text/plain": [
       "<Figure size 432x288 with 1 Axes>"
      ]
     },
     "metadata": {
      "needs_background": "light"
     },
     "output_type": "display_data"
    }
   ],
   "source": [
    "plt.imshow(x_train[135,])"
   ]
  },
  {
   "cell_type": "code",
   "execution_count": 24,
   "id": "a4dd6dd1-d4bd-4c5e-93a4-20f534ee0fcb",
   "metadata": {},
   "outputs": [
    {
     "data": {
      "text/plain": [
       "<matplotlib.image.AxesImage at 0x1deca0264f0>"
      ]
     },
     "execution_count": 24,
     "metadata": {},
     "output_type": "execute_result"
    },
    {
     "data": {
      "image/png": "[encoded data removed]",
      "text/plain": [
       "<Figure size 432x288 with 1 Axes>"
      ]
     },
     "metadata": {
      "needs_background": "light"
     },
     "output_type": "display_data"
    }
   ],
   "source": [
    "plt.imshow(x_train[135,], cmap=\"gray\")"
   ]
  },
  {
   "cell_type": "code",
   "execution_count": 48,
   "id": "187dc581-5c27-486c-be8c-e77925d1948b",
   "metadata": {},
   "outputs": [],
   "source": [
    "x_train, x_test = x_train/255.0, x_test/255.0"
   ]
  },
  {
   "cell_type": "code",
   "execution_count": 26,
   "id": "fc4cf3af-02e9-4e29-aede-71c3bf638b4f",
   "metadata": {},
   "outputs": [
    {
     "data": {
      "text/plain": [
       "(60000, 28, 28)"
      ]
     },
     "execution_count": 26,
     "metadata": {},
     "output_type": "execute_result"
    }
   ],
   "source": [
    "x_train.shape"
   ]
  },
  {
   "cell_type": "code",
   "execution_count": 29,
   "id": "d03b4fef",
   "metadata": {},
   "outputs": [
    {
     "data": {
      "text/plain": [
       "<matplotlib.image.AxesImage at 0x1dec8fcd7f0>"
      ]
     },
     "execution_count": 29,
     "metadata": {},
     "output_type": "execute_result"
    },
    {
     "data": {
      "image/png": "[encoded data removed]",
      "text/plain": [
       "<Figure size 432x288 with 1 Axes>"
      ]
     },
     "metadata": {
      "needs_background": "light"
     },
     "output_type": "display_data"
    }
   ],
   "source": [
    "plt.imshow(x_train[135,])"
   ]
  },
  {
   "cell_type": "code",
   "execution_count": 49,
   "id": "fb78b9d6",
   "metadata": {},
   "outputs": [],
   "source": [
    "model = keras.models.Sequential()\n",
    "model.add(keras.layers.Flatten(input_shape=[28,28]))\n",
    "model.add(keras.layers.Dense(100, activation = \"relu\"))\n",
    "model.add(keras.layers.Dense(75, activation = \"relu\"))\n",
    "model.add(keras.layers.Dense(10, activation = \"softmax\"))"
   ]
  },
  {
   "cell_type": "code",
   "execution_count": 50,
   "id": "1170b222",
   "metadata": {},
   "outputs": [
    {
     "name": "stdout",
     "output_type": "stream",
     "text": [
      "Model: \"sequential_2\"\n",
      "_________________________________________________________________\n",
      " Layer (type)                Output Shape              Param #   \n",
      "=================================================================\n",
      " flatten_1 (Flatten)         (None, 784)               0         \n",
      "                                                                 \n",
      " dense_3 (Dense)             (None, 100)               78500     \n",
      "                                                                 \n",
      " dense_4 (Dense)             (None, 75)                7575      \n",
      "                                                                 \n",
      " dense_5 (Dense)             (None, 10)                760       \n",
      "                                                                 \n",
      "=================================================================\n",
      "Total params: 86,835\n",
      "Trainable params: 86,835\n",
      "Non-trainable params: 0\n",
      "_________________________________________________________________\n"
     ]
    }
   ],
   "source": [
    "model.summary()"
   ]
  },
  {
   "cell_type": "code",
   "execution_count": 51,
   "id": "31ff2b6a",
   "metadata": {
    "scrolled": true
   },
   "outputs": [
    {
     "data": {
      "text/plain": [
       "[<keras.layers.reshaping.flatten.Flatten at 0x1dec955afd0>,\n",
       " <keras.layers.core.dense.Dense at 0x1dec9e387f0>,\n",
       " <keras.layers.core.dense.Dense at 0x1dec8f482b0>,\n",
       " <keras.layers.core.dense.Dense at 0x1dec90ebd60>]"
      ]
     },
     "execution_count": 51,
     "metadata": {},
     "output_type": "execute_result"
    }
   ],
   "source": [
    "model.layers"
   ]
  },
  {
   "cell_type": "code",
   "execution_count": 52,
   "id": "9c5c853c",
   "metadata": {},
   "outputs": [],
   "source": [
    "weights, bias = model.layers[1].get_weights()"
   ]
  },
  {
   "cell_type": "code",
   "execution_count": 53,
   "id": "331cfb11",
   "metadata": {},
   "outputs": [
    {
     "data": {
      "text/plain": [
       "array([[-0.07398524, -0.05104772,  0.07740512, ..., -0.04886938,\n",
       "         0.07528587,  0.01570514],\n",
       "       [-0.05251597, -0.05512514, -0.03630273, ..., -0.05263425,\n",
       "         0.05608226, -0.05717615],\n",
       "       [ 0.05980089,  0.03994358,  0.04184302, ..., -0.00546607,\n",
       "        -0.00609817, -0.06283039],\n",
       "       ...,\n",
       "       [-0.05155405, -0.07224925, -0.07391544, ..., -0.04380983,\n",
       "         0.01395213,  0.08087397],\n",
       "       [ 0.0223943 , -0.03341046,  0.08020099, ...,  0.04228081,\n",
       "         0.04609923, -0.04467069],\n",
       "       [-0.01741228, -0.03933784, -0.02714482, ...,  0.06725761,\n",
       "         0.07905495,  0.08103639]], dtype=float32)"
      ]
     },
     "execution_count": 53,
     "metadata": {},
     "output_type": "execute_result"
    }
   ],
   "source": [
    "weights"
   ]
  },
  {
   "cell_type": "code",
   "execution_count": 54,
   "id": "efc01fed",
   "metadata": {},
   "outputs": [
    {
     "data": {
      "text/plain": [
       "array([0., 0., 0., 0., 0., 0., 0., 0., 0., 0., 0., 0., 0., 0., 0., 0., 0.,\n",
       "       0., 0., 0., 0., 0., 0., 0., 0., 0., 0., 0., 0., 0., 0., 0., 0., 0.,\n",
       "       0., 0., 0., 0., 0., 0., 0., 0., 0., 0., 0., 0., 0., 0., 0., 0., 0.,\n",
       "       0., 0., 0., 0., 0., 0., 0., 0., 0., 0., 0., 0., 0., 0., 0., 0., 0.,\n",
       "       0., 0., 0., 0., 0., 0., 0., 0., 0., 0., 0., 0., 0., 0., 0., 0., 0.,\n",
       "       0., 0., 0., 0., 0., 0., 0., 0., 0., 0., 0., 0., 0., 0., 0.],\n",
       "      dtype=float32)"
      ]
     },
     "execution_count": 54,
     "metadata": {},
     "output_type": "execute_result"
    }
   ],
   "source": [
    "bias"
   ]
  },
  {
   "cell_type": "code",
   "execution_count": 55,
   "id": "d6e35098",
   "metadata": {},
   "outputs": [],
   "source": [
    "model.compile(loss = \"sparse_categorical_crossentropy\",\n",
    "             optimizer=\"sgd\",\n",
    "             metrics = [\"accuracy\"])"
   ]
  },
  {
   "cell_type": "code",
   "execution_count": 56,
   "id": "5f49a204",
   "metadata": {},
   "outputs": [
    {
     "name": "stdout",
     "output_type": "stream",
     "text": [
      "Epoch 1/70\n",
      "1500/1500 [==============================] - 6s 4ms/step - loss: 0.8077 - accuracy: 0.7320 - val_loss: 0.5504 - val_accuracy: 0.8116\n",
      "Epoch 2/70\n",
      "1500/1500 [==============================] - 6s 4ms/step - loss: 0.5110 - accuracy: 0.8241 - val_loss: 0.4720 - val_accuracy: 0.8360\n",
      "Epoch 3/70\n",
      "1500/1500 [==============================] - 5s 3ms/step - loss: 0.4619 - accuracy: 0.8383 - val_loss: 0.4505 - val_accuracy: 0.8421\n",
      "Epoch 4/70\n",
      "1500/1500 [==============================] - 5s 4ms/step - loss: 0.4343 - accuracy: 0.8483 - val_loss: 0.4321 - val_accuracy: 0.8484\n",
      "Epoch 5/70\n",
      "1500/1500 [==============================] - 5s 3ms/step - loss: 0.4136 - accuracy: 0.8565 - val_loss: 0.4134 - val_accuracy: 0.8547\n",
      "Epoch 6/70\n",
      "1500/1500 [==============================] - 5s 3ms/step - loss: 0.3976 - accuracy: 0.8615 - val_loss: 0.4141 - val_accuracy: 0.8567\n",
      "Epoch 7/70\n",
      "1500/1500 [==============================] - 5s 3ms/step - loss: 0.3842 - accuracy: 0.8653 - val_loss: 0.3961 - val_accuracy: 0.8625\n",
      "Epoch 8/70\n",
      "1500/1500 [==============================] - 5s 3ms/step - loss: 0.3725 - accuracy: 0.8699 - val_loss: 0.4033 - val_accuracy: 0.8558\n",
      "Epoch 9/70\n",
      "1500/1500 [==============================] - 5s 3ms/step - loss: 0.3626 - accuracy: 0.8720 - val_loss: 0.3773 - val_accuracy: 0.8683\n",
      "Epoch 10/70\n",
      "1500/1500 [==============================] - 5s 3ms/step - loss: 0.3533 - accuracy: 0.8748 - val_loss: 0.3817 - val_accuracy: 0.8632\n",
      "Epoch 11/70\n",
      "1500/1500 [==============================] - 5s 3ms/step - loss: 0.3453 - accuracy: 0.8775 - val_loss: 0.3729 - val_accuracy: 0.8708\n",
      "Epoch 12/70\n",
      "1500/1500 [==============================] - 5s 3ms/step - loss: 0.3379 - accuracy: 0.8797 - val_loss: 0.3646 - val_accuracy: 0.8702\n",
      "Epoch 13/70\n",
      "1500/1500 [==============================] - 6s 4ms/step - loss: 0.3314 - accuracy: 0.8817 - val_loss: 0.3615 - val_accuracy: 0.8755\n",
      "Epoch 14/70\n",
      "1500/1500 [==============================] - 6s 4ms/step - loss: 0.3242 - accuracy: 0.8853 - val_loss: 0.3545 - val_accuracy: 0.8731\n",
      "Epoch 15/70\n",
      "1500/1500 [==============================] - 5s 3ms/step - loss: 0.3188 - accuracy: 0.8862 - val_loss: 0.3567 - val_accuracy: 0.8740\n",
      "Epoch 16/70\n",
      "1500/1500 [==============================] - 5s 3ms/step - loss: 0.3135 - accuracy: 0.8878 - val_loss: 0.3528 - val_accuracy: 0.8766\n",
      "Epoch 17/70\n",
      "1500/1500 [==============================] - 5s 3ms/step - loss: 0.3067 - accuracy: 0.8908 - val_loss: 0.3472 - val_accuracy: 0.8771\n",
      "Epoch 18/70\n",
      "1500/1500 [==============================] - 5s 3ms/step - loss: 0.3018 - accuracy: 0.8925 - val_loss: 0.3451 - val_accuracy: 0.8784\n",
      "Epoch 19/70\n",
      "1500/1500 [==============================] - 5s 4ms/step - loss: 0.2978 - accuracy: 0.8931 - val_loss: 0.3648 - val_accuracy: 0.8686\n",
      "Epoch 20/70\n",
      "1500/1500 [==============================] - 5s 3ms/step - loss: 0.2928 - accuracy: 0.8947 - val_loss: 0.3378 - val_accuracy: 0.8793\n",
      "Epoch 21/70\n",
      "1500/1500 [==============================] - 5s 3ms/step - loss: 0.2874 - accuracy: 0.8963 - val_loss: 0.3558 - val_accuracy: 0.8754\n",
      "Epoch 22/70\n",
      "1500/1500 [==============================] - 5s 3ms/step - loss: 0.2846 - accuracy: 0.8975 - val_loss: 0.3369 - val_accuracy: 0.8791\n",
      "Epoch 23/70\n",
      "1500/1500 [==============================] - 5s 3ms/step - loss: 0.2795 - accuracy: 0.8998 - val_loss: 0.3419 - val_accuracy: 0.8768\n",
      "Epoch 24/70\n",
      "1500/1500 [==============================] - 6s 4ms/step - loss: 0.2757 - accuracy: 0.9009 - val_loss: 0.3329 - val_accuracy: 0.8834\n",
      "Epoch 25/70\n",
      "1500/1500 [==============================] - 6s 4ms/step - loss: 0.2719 - accuracy: 0.9021 - val_loss: 0.3271 - val_accuracy: 0.8838\n",
      "Epoch 26/70\n",
      "1500/1500 [==============================] - 5s 3ms/step - loss: 0.2684 - accuracy: 0.9034 - val_loss: 0.3274 - val_accuracy: 0.8837\n",
      "Epoch 27/70\n",
      "1500/1500 [==============================] - 5s 3ms/step - loss: 0.2666 - accuracy: 0.9041 - val_loss: 0.3274 - val_accuracy: 0.8823\n",
      "Epoch 28/70\n",
      "1500/1500 [==============================] - 5s 3ms/step - loss: 0.2607 - accuracy: 0.9060 - val_loss: 0.3347 - val_accuracy: 0.8813\n",
      "Epoch 29/70\n",
      "1500/1500 [==============================] - 5s 3ms/step - loss: 0.2587 - accuracy: 0.9061 - val_loss: 0.3226 - val_accuracy: 0.8836\n",
      "Epoch 30/70\n",
      "1500/1500 [==============================] - 5s 4ms/step - loss: 0.2540 - accuracy: 0.9084 - val_loss: 0.3263 - val_accuracy: 0.8845\n",
      "Epoch 31/70\n",
      "1500/1500 [==============================] - 5s 4ms/step - loss: 0.2523 - accuracy: 0.9096 - val_loss: 0.3226 - val_accuracy: 0.8860\n",
      "Epoch 32/70\n",
      "1500/1500 [==============================] - 6s 4ms/step - loss: 0.2490 - accuracy: 0.9091 - val_loss: 0.3236 - val_accuracy: 0.8861\n",
      "Epoch 33/70\n",
      "1500/1500 [==============================] - 5s 3ms/step - loss: 0.2446 - accuracy: 0.9118 - val_loss: 0.3360 - val_accuracy: 0.8795\n",
      "Epoch 34/70\n",
      "1500/1500 [==============================] - 5s 3ms/step - loss: 0.2422 - accuracy: 0.9116 - val_loss: 0.3252 - val_accuracy: 0.8816\n",
      "Epoch 35/70\n",
      "1500/1500 [==============================] - 6s 4ms/step - loss: 0.2392 - accuracy: 0.9134 - val_loss: 0.3348 - val_accuracy: 0.8820\n",
      "Epoch 36/70\n",
      "1500/1500 [==============================] - 7s 5ms/step - loss: 0.2360 - accuracy: 0.9151 - val_loss: 0.3176 - val_accuracy: 0.8863\n",
      "Epoch 37/70\n",
      "1500/1500 [==============================] - 5s 4ms/step - loss: 0.2331 - accuracy: 0.9162 - val_loss: 0.3223 - val_accuracy: 0.8862\n",
      "Epoch 38/70\n",
      "1500/1500 [==============================] - 5s 4ms/step - loss: 0.2302 - accuracy: 0.9181 - val_loss: 0.3243 - val_accuracy: 0.8853\n",
      "Epoch 39/70\n",
      "1500/1500 [==============================] - 6s 4ms/step - loss: 0.2264 - accuracy: 0.9182 - val_loss: 0.3461 - val_accuracy: 0.8763\n",
      "Epoch 40/70\n",
      "1500/1500 [==============================] - 6s 4ms/step - loss: 0.2245 - accuracy: 0.9198 - val_loss: 0.3212 - val_accuracy: 0.8885\n",
      "Epoch 41/70\n",
      "1500/1500 [==============================] - 6s 4ms/step - loss: 0.2228 - accuracy: 0.9196 - val_loss: 0.3288 - val_accuracy: 0.8843\n",
      "Epoch 42/70\n",
      "1500/1500 [==============================] - 5s 4ms/step - loss: 0.2195 - accuracy: 0.9216 - val_loss: 0.3175 - val_accuracy: 0.8869\n",
      "Epoch 43/70\n",
      "1500/1500 [==============================] - 6s 4ms/step - loss: 0.2171 - accuracy: 0.9216 - val_loss: 0.3278 - val_accuracy: 0.8850\n",
      "Epoch 44/70\n",
      "1500/1500 [==============================] - 6s 4ms/step - loss: 0.2146 - accuracy: 0.9227 - val_loss: 0.3318 - val_accuracy: 0.8825\n",
      "Epoch 45/70\n",
      "1500/1500 [==============================] - 6s 4ms/step - loss: 0.2116 - accuracy: 0.9242 - val_loss: 0.3301 - val_accuracy: 0.8845\n",
      "Epoch 46/70\n",
      "1500/1500 [==============================] - 5s 3ms/step - loss: 0.2089 - accuracy: 0.9244 - val_loss: 0.3492 - val_accuracy: 0.8765\n",
      "Epoch 47/70\n",
      "1500/1500 [==============================] - 5s 4ms/step - loss: 0.2065 - accuracy: 0.9255 - val_loss: 0.3233 - val_accuracy: 0.8873\n",
      "Epoch 48/70\n",
      "1500/1500 [==============================] - 5s 4ms/step - loss: 0.2040 - accuracy: 0.9279 - val_loss: 0.3209 - val_accuracy: 0.8899\n",
      "Epoch 49/70\n",
      "1500/1500 [==============================] - 5s 4ms/step - loss: 0.2023 - accuracy: 0.9274 - val_loss: 0.3234 - val_accuracy: 0.8872\n",
      "Epoch 50/70\n",
      "1500/1500 [==============================] - 6s 4ms/step - loss: 0.2001 - accuracy: 0.9277 - val_loss: 0.3205 - val_accuracy: 0.8866\n",
      "Epoch 51/70\n",
      "1500/1500 [==============================] - 5s 3ms/step - loss: 0.1980 - accuracy: 0.9306 - val_loss: 0.3334 - val_accuracy: 0.8842\n",
      "Epoch 52/70\n",
      "1500/1500 [==============================] - 5s 4ms/step - loss: 0.1960 - accuracy: 0.9303 - val_loss: 0.3169 - val_accuracy: 0.8896\n",
      "Epoch 53/70\n",
      "1500/1500 [==============================] - 5s 4ms/step - loss: 0.1934 - accuracy: 0.9313 - val_loss: 0.3263 - val_accuracy: 0.8894\n",
      "Epoch 54/70\n",
      "1500/1500 [==============================] - 5s 4ms/step - loss: 0.1908 - accuracy: 0.9320 - val_loss: 0.3351 - val_accuracy: 0.8852\n",
      "Epoch 55/70\n",
      "1500/1500 [==============================] - 5s 3ms/step - loss: 0.1891 - accuracy: 0.9326 - val_loss: 0.3268 - val_accuracy: 0.8867\n",
      "Epoch 56/70\n",
      "1500/1500 [==============================] - 5s 3ms/step - loss: 0.1862 - accuracy: 0.9342 - val_loss: 0.3297 - val_accuracy: 0.8880\n",
      "Epoch 57/70\n",
      "1500/1500 [==============================] - 5s 3ms/step - loss: 0.1851 - accuracy: 0.9342 - val_loss: 0.3328 - val_accuracy: 0.8857\n",
      "Epoch 58/70\n",
      "1500/1500 [==============================] - 5s 3ms/step - loss: 0.1829 - accuracy: 0.9340 - val_loss: 0.3450 - val_accuracy: 0.8822\n",
      "Epoch 59/70\n",
      "1500/1500 [==============================] - 5s 3ms/step - loss: 0.1794 - accuracy: 0.9364 - val_loss: 0.3268 - val_accuracy: 0.8882\n",
      "Epoch 60/70\n",
      "1500/1500 [==============================] - 5s 3ms/step - loss: 0.1780 - accuracy: 0.9359 - val_loss: 0.3312 - val_accuracy: 0.8893\n",
      "Epoch 61/70\n",
      "1500/1500 [==============================] - 5s 3ms/step - loss: 0.1774 - accuracy: 0.9376 - val_loss: 0.3344 - val_accuracy: 0.8851\n",
      "Epoch 62/70\n",
      "1500/1500 [==============================] - 5s 3ms/step - loss: 0.1756 - accuracy: 0.9373 - val_loss: 0.3294 - val_accuracy: 0.8891\n",
      "Epoch 63/70\n",
      "1500/1500 [==============================] - 5s 3ms/step - loss: 0.1733 - accuracy: 0.9379 - val_loss: 0.3356 - val_accuracy: 0.8874\n",
      "Epoch 64/70\n",
      "1500/1500 [==============================] - 5s 3ms/step - loss: 0.1713 - accuracy: 0.9386 - val_loss: 0.3336 - val_accuracy: 0.8871\n",
      "Epoch 65/70\n",
      "1500/1500 [==============================] - 5s 3ms/step - loss: 0.1708 - accuracy: 0.9388 - val_loss: 0.3563 - val_accuracy: 0.8832\n",
      "Epoch 66/70\n",
      "1500/1500 [==============================] - 5s 3ms/step - loss: 0.1671 - accuracy: 0.9410 - val_loss: 0.3406 - val_accuracy: 0.8866\n",
      "Epoch 67/70\n",
      "1500/1500 [==============================] - 5s 3ms/step - loss: 0.1663 - accuracy: 0.9412 - val_loss: 0.3511 - val_accuracy: 0.8831\n",
      "Epoch 68/70\n",
      "1500/1500 [==============================] - 5s 3ms/step - loss: 0.1638 - accuracy: 0.9415 - val_loss: 0.3346 - val_accuracy: 0.8882\n",
      "Epoch 69/70\n",
      "1500/1500 [==============================] - 5s 3ms/step - loss: 0.1619 - accuracy: 0.9423 - val_loss: 0.3354 - val_accuracy: 0.8873\n",
      "Epoch 70/70\n",
      "1500/1500 [==============================] - 5s 3ms/step - loss: 0.1592 - accuracy: 0.9449 - val_loss: 0.3389 - val_accuracy: 0.8864\n"
     ]
    }
   ],
   "source": [
    "start = model.fit(x_train, y_train, epochs = 70, validation_split = 0.2)"
   ]
  },
  {
   "cell_type": "code",
   "execution_count": 58,
   "id": "3f54f263",
   "metadata": {},
   "outputs": [
    {
     "name": "stdout",
     "output_type": "stream",
     "text": [
      "{'loss': [0.8077449798583984, 0.5110448002815247, 0.46192434430122375, 0.43427225947380066, 0.4135626256465912, 0.3975539207458496, 0.38422518968582153, 0.3724590539932251, 0.3626377284526825, 0.35325944423675537, 0.34532132744789124, 0.3378537595272064, 0.3314475417137146, 0.32420265674591064, 0.31877756118774414, 0.3134984076023102, 0.30673032999038696, 0.30179986357688904, 0.29781973361968994, 0.29283589124679565, 0.2874141335487366, 0.28462162613868713, 0.2795482873916626, 0.2757067382335663, 0.2719002366065979, 0.26838773488998413, 0.2665799558162689, 0.2607421875, 0.2586854100227356, 0.2539990544319153, 0.2522682249546051, 0.24903222918510437, 0.24455568194389343, 0.2422347068786621, 0.23919256031513214, 0.23599651455879211, 0.23306933045387268, 0.2302313894033432, 0.22641007602214813, 0.22454409301280975, 0.2228294014930725, 0.21949318051338196, 0.21708862483501434, 0.2145535945892334, 0.21158748865127563, 0.2088562548160553, 0.20652861893177032, 0.20399053394794464, 0.20234765112400055, 0.20006367564201355, 0.1980070322751999, 0.19599419832229614, 0.19337259232997894, 0.19081126153469086, 0.18912123143672943, 0.18621326982975006, 0.185097336769104, 0.18289144337177277, 0.17942000925540924, 0.1780378818511963, 0.17737306654453278, 0.17561624944210052, 0.17331182956695557, 0.17131170630455017, 0.17084664106369019, 0.16709508001804352, 0.16628213226795197, 0.16383203864097595, 0.16191162168979645, 0.15922029316425323], 'accuracy': [0.7319583296775818, 0.8241458535194397, 0.8383125066757202, 0.8483333587646484, 0.8565416932106018, 0.8614583611488342, 0.8653125166893005, 0.8698958158493042, 0.8720208406448364, 0.874833345413208, 0.8774999976158142, 0.879729151725769, 0.8817083239555359, 0.8853333592414856, 0.8861666917800903, 0.8877500295639038, 0.8907708525657654, 0.8924999833106995, 0.8930833339691162, 0.8947499990463257, 0.8963124752044678, 0.8974583148956299, 0.8997708559036255, 0.9009374976158142, 0.9021458625793457, 0.9034166932106018, 0.9041249752044678, 0.906000018119812, 0.9060624837875366, 0.9084374904632568, 0.9096041917800903, 0.9091249704360962, 0.9118333458900452, 0.9116250276565552, 0.9134166836738586, 0.9150624871253967, 0.9161875247955322, 0.9180625081062317, 0.9182291626930237, 0.9198125004768372, 0.9195833206176758, 0.9216041564941406, 0.9216458201408386, 0.9227291941642761, 0.9241666793823242, 0.9244375228881836, 0.9255416393280029, 0.9278541803359985, 0.9274374842643738, 0.9277291893959045, 0.9306458234786987, 0.9303333163261414, 0.9313333630561829, 0.9320416450500488, 0.9325624704360962, 0.9342291951179504, 0.9341874718666077, 0.9340416789054871, 0.9364166855812073, 0.9359166622161865, 0.9375625252723694, 0.93729168176651, 0.9378541707992554, 0.9386458396911621, 0.9388333559036255, 0.9409583210945129, 0.9412083625793457, 0.9415416717529297, 0.942270815372467, 0.944937527179718], 'val_loss': [0.5503677725791931, 0.47199565172195435, 0.45048826932907104, 0.4320923984050751, 0.41341492533683777, 0.41412708163261414, 0.39607787132263184, 0.4032673239707947, 0.3772568702697754, 0.3817228674888611, 0.37287622690200806, 0.3646122217178345, 0.3615230321884155, 0.35447371006011963, 0.3566693067550659, 0.3527714014053345, 0.347219854593277, 0.34514644742012024, 0.3648301959037781, 0.3378278613090515, 0.35577651858329773, 0.336877703666687, 0.34191301465034485, 0.332869291305542, 0.32707899808883667, 0.32739028334617615, 0.3274470269680023, 0.33472713828086853, 0.32260018587112427, 0.3262633979320526, 0.3226281404495239, 0.323564738035202, 0.33598747849464417, 0.3251843750476837, 0.33475497364997864, 0.31761667132377625, 0.32231009006500244, 0.32434025406837463, 0.34610411524772644, 0.3211767077445984, 0.32882988452911377, 0.3174542784690857, 0.3278135359287262, 0.33177193999290466, 0.33011335134506226, 0.3491852879524231, 0.3232782781124115, 0.3208868205547333, 0.32337865233421326, 0.32048872113227844, 0.33340299129486084, 0.316852331161499, 0.3263491094112396, 0.335112601518631, 0.32679417729377747, 0.3296894431114197, 0.33281147480010986, 0.3450469672679901, 0.3268245458602905, 0.33120474219322205, 0.3343857526779175, 0.3293617367744446, 0.33564114570617676, 0.33362287282943726, 0.35632699728012085, 0.3405541181564331, 0.35105469822883606, 0.3345889747142792, 0.33539384603500366, 0.33887505531311035], 'val_accuracy': [0.8115833401679993, 0.8360000252723694, 0.8420833349227905, 0.8484166860580444, 0.8546666502952576, 0.8566666841506958, 0.862500011920929, 0.8557500243186951, 0.8682500123977661, 0.8631666898727417, 0.8707500100135803, 0.8701666593551636, 0.8755000233650208, 0.8730833530426025, 0.8740000128746033, 0.8765833377838135, 0.8770833611488342, 0.8784166574478149, 0.8685833215713501, 0.8793333172798157, 0.8754166960716248, 0.8790833353996277, 0.8768333196640015, 0.8834166526794434, 0.8837500214576721, 0.8836666941642761, 0.8823333382606506, 0.8812500238418579, 0.8835833072662354, 0.8845000267028809, 0.8859999775886536, 0.8860833048820496, 0.8794999718666077, 0.8815833330154419, 0.8820000290870667, 0.8863333463668823, 0.8861666917800903, 0.8853333592414856, 0.8762500286102295, 0.8884999752044678, 0.8843333125114441, 0.8869166374206543, 0.8849999904632568, 0.8824999928474426, 0.8845000267028809, 0.8765000104904175, 0.887333333492279, 0.8899166584014893, 0.8871666789054871, 0.8865833282470703, 0.8841666579246521, 0.8895833492279053, 0.8894166946411133, 0.8851666450500488, 0.8867499828338623, 0.8880000114440918, 0.8856666684150696, 0.8821666836738586, 0.8881666660308838, 0.8893333077430725, 0.8850833177566528, 0.8890833258628845, 0.887416660785675, 0.8870833516120911, 0.8832499980926514, 0.8865833282470703, 0.8830833435058594, 0.8882499933242798, 0.887333333492279, 0.8864166736602783]}\n"
     ]
    }
   ],
   "source": [
    "print(start.history)"
   ]
  },
  {
   "cell_type": "code",
   "execution_count": 59,
   "id": "171f2d8b-b5d9-43da-909f-6c43e8e362d6",
   "metadata": {
    "jp-MarkdownHeadingCollapsed": true,
    "jupyter": {
     "outputs_hidden": true
    },
    "tags": []
   },
   "outputs": [
    {
     "data": {
      "text/plain": [
       "<matplotlib.legend.Legend at 0x1dec9582280>"
      ]
     },
     "execution_count": 59,
     "metadata": {},
     "output_type": "execute_result"
    },
    {
     "data": {
      "image/png": "[encoded data removed]",
      "text/plain": [
       "<Figure size 864x360 with 1 Axes>"
      ]
     },
     "metadata": {
      "needs_background": "light"
     },
     "output_type": "display_data"
    }
   ],
   "source": [
    "fig, ax = plt.subplots(figsize=(12, 5))\n",
    "ax.plot(start.history[\"loss\"], label=\"train loss\")\n",
    "ax.plot(start.history[\"accuracy\"], label=\"train accuracy\")\n",
    "ax.plot(start.history[\"val_loss\"], label=\"validation loss\")\n",
    "ax.plot(start.history[\"val_accuracy\"], label=\"validation accuracy\")\n",
    "ax.legend()"
   ]
  },
  {
   "cell_type": "code",
   "execution_count": 63,
   "id": "ff2645d1",
   "metadata": {
    "scrolled": true
   },
   "outputs": [
    {
     "data": {
      "text/plain": [
       "[0.3570200800895691, 0.8826000094413757]"
      ]
     },
     "execution_count": 63,
     "metadata": {},
     "output_type": "execute_result"
    }
   ],
   "source": [
    "model.evaluate(x_test, y_test, verbose=0)"
   ]
  },
  {
   "cell_type": "code",
   "execution_count": 64,
   "id": "43008b40",
   "metadata": {},
   "outputs": [],
   "source": [
    "x1 = x_test[4:8]"
   ]
  },
  {
   "cell_type": "code",
   "execution_count": 65,
   "id": "67811b4e",
   "metadata": {},
   "outputs": [
    {
     "data": {
      "text/plain": [
       "(4, 28, 28)"
      ]
     },
     "execution_count": 65,
     "metadata": {},
     "output_type": "execute_result"
    }
   ],
   "source": [
    "x1.shape"
   ]
  },
  {
   "cell_type": "code",
   "execution_count": 73,
   "id": "263571b3",
   "metadata": {},
   "outputs": [
    {
     "data": {
      "text/plain": [
       "<matplotlib.image.AxesImage at 0x1dec90984c0>"
      ]
     },
     "execution_count": 73,
     "metadata": {},
     "output_type": "execute_result"
    },
    {
     "data": {
      "image/png": "[encoded data removed]",
      "text/plain": [
       "<Figure size 432x288 with 1 Axes>"
      ]
     },
     "metadata": {
      "needs_background": "light"
     },
     "output_type": "display_data"
    }
   ],
   "source": [
    "plt.imshow(x1[3], cmap = \"gray\")"
   ]
  },
  {
   "cell_type": "code",
   "execution_count": 75,
   "id": "69e047d3",
   "metadata": {},
   "outputs": [
    {
     "name": "stdout",
     "output_type": "stream",
     "text": [
      "1/1 [==============================] - 0s 32ms/step\n"
     ]
    },
    {
     "data": {
      "text/plain": [
       "array([[0.4 , 0.  , 0.01, 0.  , 0.  , 0.  , 0.59, 0.  , 0.  , 0.  ],\n",
       "       [0.  , 1.  , 0.  , 0.  , 0.  , 0.  , 0.  , 0.  , 0.  , 0.  ],\n",
       "       [0.  , 0.  , 0.  , 0.  , 1.  , 0.  , 0.  , 0.  , 0.  , 0.  ],\n",
       "       [0.  , 0.  , 0.  , 0.  , 0.  , 0.  , 1.  , 0.  , 0.  , 0.  ]],\n",
       "      dtype=float32)"
      ]
     },
     "execution_count": 75,
     "metadata": {},
     "output_type": "execute_result"
    }
   ],
   "source": [
    "model.predict(x1).round(2)"
   ]
  },
  {
   "cell_type": "code",
   "execution_count": 77,
   "id": "451daf18-ba7e-477d-93aa-2ba6610384c1",
   "metadata": {
    "scrolled": true
   },
   "outputs": [
    {
     "name": "stdout",
     "output_type": "stream",
     "text": [
      "1/1 [==============================] - 0s 30ms/step\n"
     ]
    },
    {
     "data": {
      "text/plain": [
       "(4, 10)"
      ]
     },
     "execution_count": 77,
     "metadata": {},
     "output_type": "execute_result"
    }
   ],
   "source": [
    "model.predict(x1).shape"
   ]
  },
  {
   "cell_type": "code",
   "execution_count": 81,
   "id": "41d2e79e-ba2c-40c7-9879-9fbfd2f82f8c",
   "metadata": {
    "scrolled": true
   },
   "outputs": [
    {
     "name": "stdout",
     "output_type": "stream",
     "text": [
      "1/1 [==============================] - 0s 26ms/step\n"
     ]
    },
    {
     "data": {
      "text/plain": [
       "array([6, 1, 4, 6], dtype=int64)"
      ]
     },
     "execution_count": 81,
     "metadata": {},
     "output_type": "execute_result"
    }
   ],
   "source": [
    "np.argmax(model.predict(x1).round(2), axis=1)"
   ]
  },
  {
   "cell_type": "code",
   "execution_count": 82,
   "id": "d026226f-120d-48fd-b1ba-be9d0dbd285e",
   "metadata": {},
   "outputs": [
    {
     "data": {
      "text/plain": [
       "array([6, 1, 4, 6], dtype=uint8)"
      ]
     },
     "execution_count": 82,
     "metadata": {},
     "output_type": "execute_result"
    }
   ],
   "source": [
    "y_test[4:8]"
   ]
  }
 ],
 "metadata": {
  "kernelspec": {
   "display_name": "Python 3",
   "language": "python",
   "name": "python3"
  },
  "language_info": {
   "codemirror_mode": {
    "name": "ipython",
    "version": 3
   },
   "file_extension": ".py",
   "mimetype": "text/x-python",
   "name": "python",
   "nbconvert_exporter": "python",
   "pygments_lexer": "ipython3",
   "version": "3.8.8"
  }
 },
 "nbformat": 4,
 "nbformat_minor": 5
}
